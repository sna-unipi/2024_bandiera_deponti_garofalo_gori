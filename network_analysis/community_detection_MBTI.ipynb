{
  "cells": [
    {
      "cell_type": "code",
      "execution_count": null,
      "metadata": {
        "id": "7RR44BzrCEHa"
      },
      "outputs": [],
      "source": [
        "import cdlib\n",
        "import networkx as nx\n",
        "\n",
        "g = nx.karate_club_graph()\n",
        "\n",
        "from cdlib import algorithms\n",
        "\n",
        "lp_coms = algorithms.label_propagation(g)\n",
        "\n",
        "leiden_coms = algorithms.label_propagation(g)\n",
        "\n",
        "# both leiden and label propagation return a NodeClusering object with the\n",
        "# following properties:\n",
        "leiden_coms.method_name # returns the type of community detection done\n",
        "leiden_coms.method_parameters # returns clustering parameters, such as initial_membership and weights\n",
        "leiden_coms.communities # returns series of arrays with the nodes of each community\n",
        "leiden_coms.overlap # bool, is the clustering overlapping?\n",
        "leiden_coms.node_coverage # density [0, 1] of the nodes inside a community\n",
        "\n",
        "# clustering object allow JSON representation\n",
        "leiden_coms.to_json() # basically a readable, compact dictionary\n",
        "\n",
        "# with a clustering object it is possible to compute various indices\n",
        "leiden_coms.average_internal_degree() # returns min/max/score/std\n",
        "leiden_coms.average_internal_degree(summary = False) # returns the index community-by-community\n",
        "\n",
        "# you can compare different clusterings on the same network\n",
        "evaluation.normalized_mutual_information(leiden_coms, lp_coms)\n",
        "\n",
        "# it is possibile to visualize the network;\n",
        "# our network is big, so what we do is making the communities collapse onto\n",
        "# a node and link them accordingly\n",
        "from cdlib import viz\n",
        "viz.plot_community_graph(g, leiden_coms, figsize=(3, 3))\n",
        "\n",
        "# violin plots are used to visualize how a fitness function distributes\n",
        "# over the communities (given more clusterings)\n",
        "viz.plot_com_stat([leiden_coms, lp_coms], evaluation.internal_edge_density)"
      ]
    },
    {
      "cell_type": "markdown",
      "metadata": {
        "id": "XtyVIeK1VE1d"
      },
      "source": [
        "Via ora si prova a fare il nostro"
      ]
    },
    {
      "cell_type": "code",
      "execution_count": 1,
      "metadata": {
        "colab": {
          "base_uri": "https://localhost:8080/"
        },
        "id": "7rKA5i71VJcN",
        "outputId": "6e11fcf4-f9a4-460b-ad1f-6e3c794a8eea"
      },
      "outputs": [
        {
          "output_type": "stream",
          "name": "stdout",
          "text": [
            "Collecting cdlib\n",
            "  Downloading cdlib-0.4.0-py3-none-any.whl (263 kB)\n",
            "\u001b[2K     \u001b[90m━━━━━━━━━━━━━━━━━━━━━━━━━━━━━━━━━━━━━━━━\u001b[0m \u001b[32m263.6/263.6 kB\u001b[0m \u001b[31m2.7 MB/s\u001b[0m eta \u001b[36m0:00:00\u001b[0m\n",
            "\u001b[?25hRequirement already satisfied: numpy in /usr/local/lib/python3.10/dist-packages (from cdlib) (1.25.2)\n",
            "Requirement already satisfied: scikit-learn in /usr/local/lib/python3.10/dist-packages (from cdlib) (1.2.2)\n",
            "Requirement already satisfied: tqdm in /usr/local/lib/python3.10/dist-packages (from cdlib) (4.66.4)\n",
            "Requirement already satisfied: networkx>=3.0 in /usr/local/lib/python3.10/dist-packages (from cdlib) (3.3)\n",
            "Collecting demon (from cdlib)\n",
            "  Downloading demon-2.0.6-py3-none-any.whl (7.3 kB)\n",
            "Requirement already satisfied: python-louvain>=0.16 in /usr/local/lib/python3.10/dist-packages (from cdlib) (0.16)\n",
            "Requirement already satisfied: scipy>=1.10 in /usr/local/lib/python3.10/dist-packages (from cdlib) (1.11.4)\n",
            "Collecting pulp (from cdlib)\n",
            "  Downloading PuLP-2.9.0-py3-none-any.whl (17.7 MB)\n",
            "\u001b[2K     \u001b[90m━━━━━━━━━━━━━━━━━━━━━━━━━━━━━━━━━━━━━━━━\u001b[0m \u001b[32m17.7/17.7 MB\u001b[0m \u001b[31m22.4 MB/s\u001b[0m eta \u001b[36m0:00:00\u001b[0m\n",
            "\u001b[?25hRequirement already satisfied: seaborn in /usr/local/lib/python3.10/dist-packages (from cdlib) (0.13.1)\n",
            "Requirement already satisfied: pandas in /usr/local/lib/python3.10/dist-packages (from cdlib) (2.0.3)\n",
            "Collecting eva-lcd (from cdlib)\n",
            "  Downloading eva_lcd-0.1.1-py3-none-any.whl (9.2 kB)\n",
            "Collecting bimlpa (from cdlib)\n",
            "  Downloading bimlpa-0.1.2-py3-none-any.whl (7.0 kB)\n",
            "Collecting python-igraph>=0.10 (from cdlib)\n",
            "  Downloading python_igraph-0.11.6-py3-none-any.whl (9.1 kB)\n",
            "Collecting angelcommunity (from cdlib)\n",
            "  Downloading angelcommunity-2.0.0-py3-none-any.whl (10 kB)\n",
            "Requirement already satisfied: pooch in /usr/local/lib/python3.10/dist-packages (from cdlib) (1.8.2)\n",
            "Collecting dynetx (from cdlib)\n",
            "  Downloading dynetx-0.3.2-py3-none-any.whl (39 kB)\n",
            "Collecting thresholdclustering (from cdlib)\n",
            "  Downloading thresholdclustering-1.1-py3-none-any.whl (5.3 kB)\n",
            "Collecting python-Levenshtein (from cdlib)\n",
            "  Downloading python_Levenshtein-0.25.1-py3-none-any.whl (9.4 kB)\n",
            "Requirement already satisfied: plotly in /usr/local/lib/python3.10/dist-packages (from cdlib) (5.15.0)\n",
            "Collecting igraph==0.11.6 (from python-igraph>=0.10->cdlib)\n",
            "  Downloading igraph-0.11.6-cp39-abi3-manylinux_2_17_x86_64.manylinux2014_x86_64.whl (3.1 MB)\n",
            "\u001b[2K     \u001b[90m━━━━━━━━━━━━━━━━━━━━━━━━━━━━━━━━━━━━━━━━\u001b[0m \u001b[32m3.1/3.1 MB\u001b[0m \u001b[31m31.9 MB/s\u001b[0m eta \u001b[36m0:00:00\u001b[0m\n",
            "\u001b[?25hCollecting texttable>=1.6.2 (from igraph==0.11.6->python-igraph>=0.10->cdlib)\n",
            "  Downloading texttable-1.7.0-py2.py3-none-any.whl (10 kB)\n",
            "Requirement already satisfied: future in /usr/local/lib/python3.10/dist-packages (from angelcommunity->cdlib) (0.18.3)\n",
            "Requirement already satisfied: matplotlib in /usr/local/lib/python3.10/dist-packages (from bimlpa->cdlib) (3.7.1)\n",
            "Requirement already satisfied: decorator in /usr/local/lib/python3.10/dist-packages (from dynetx->cdlib) (4.4.2)\n",
            "Requirement already satisfied: python-dateutil>=2.8.2 in /usr/local/lib/python3.10/dist-packages (from pandas->cdlib) (2.8.2)\n",
            "Requirement already satisfied: pytz>=2020.1 in /usr/local/lib/python3.10/dist-packages (from pandas->cdlib) (2023.4)\n",
            "Requirement already satisfied: tzdata>=2022.1 in /usr/local/lib/python3.10/dist-packages (from pandas->cdlib) (2024.1)\n",
            "Requirement already satisfied: tenacity>=6.2.0 in /usr/local/lib/python3.10/dist-packages (from plotly->cdlib) (8.5.0)\n",
            "Requirement already satisfied: packaging in /usr/local/lib/python3.10/dist-packages (from plotly->cdlib) (24.1)\n",
            "Requirement already satisfied: platformdirs>=2.5.0 in /usr/local/lib/python3.10/dist-packages (from pooch->cdlib) (4.2.2)\n",
            "Requirement already satisfied: requests>=2.19.0 in /usr/local/lib/python3.10/dist-packages (from pooch->cdlib) (2.31.0)\n",
            "Collecting Levenshtein==0.25.1 (from python-Levenshtein->cdlib)\n",
            "  Downloading Levenshtein-0.25.1-cp310-cp310-manylinux_2_17_x86_64.manylinux2014_x86_64.whl (177 kB)\n",
            "\u001b[2K     \u001b[90m━━━━━━━━━━━━━━━━━━━━━━━━━━━━━━━━━━━━━━━━\u001b[0m \u001b[32m177.4/177.4 kB\u001b[0m \u001b[31m1.8 MB/s\u001b[0m eta \u001b[36m0:00:00\u001b[0m\n",
            "\u001b[?25hCollecting rapidfuzz<4.0.0,>=3.8.0 (from Levenshtein==0.25.1->python-Levenshtein->cdlib)\n",
            "  Downloading rapidfuzz-3.9.4-cp310-cp310-manylinux_2_17_x86_64.manylinux2014_x86_64.whl (3.4 MB)\n",
            "\u001b[2K     \u001b[90m━━━━━━━━━━━━━━━━━━━━━━━━━━━━━━━━━━━━━━━━\u001b[0m \u001b[32m3.4/3.4 MB\u001b[0m \u001b[31m41.4 MB/s\u001b[0m eta \u001b[36m0:00:00\u001b[0m\n",
            "\u001b[?25hRequirement already satisfied: joblib>=1.1.1 in /usr/local/lib/python3.10/dist-packages (from scikit-learn->cdlib) (1.4.2)\n",
            "Requirement already satisfied: threadpoolctl>=2.0.0 in /usr/local/lib/python3.10/dist-packages (from scikit-learn->cdlib) (3.5.0)\n",
            "Requirement already satisfied: contourpy>=1.0.1 in /usr/local/lib/python3.10/dist-packages (from matplotlib->bimlpa->cdlib) (1.2.1)\n",
            "Requirement already satisfied: cycler>=0.10 in /usr/local/lib/python3.10/dist-packages (from matplotlib->bimlpa->cdlib) (0.12.1)\n",
            "Requirement already satisfied: fonttools>=4.22.0 in /usr/local/lib/python3.10/dist-packages (from matplotlib->bimlpa->cdlib) (4.53.1)\n",
            "Requirement already satisfied: kiwisolver>=1.0.1 in /usr/local/lib/python3.10/dist-packages (from matplotlib->bimlpa->cdlib) (1.4.5)\n",
            "Requirement already satisfied: pillow>=6.2.0 in /usr/local/lib/python3.10/dist-packages (from matplotlib->bimlpa->cdlib) (9.4.0)\n",
            "Requirement already satisfied: pyparsing>=2.3.1 in /usr/local/lib/python3.10/dist-packages (from matplotlib->bimlpa->cdlib) (3.1.2)\n",
            "Requirement already satisfied: six>=1.5 in /usr/local/lib/python3.10/dist-packages (from python-dateutil>=2.8.2->pandas->cdlib) (1.16.0)\n",
            "Requirement already satisfied: charset-normalizer<4,>=2 in /usr/local/lib/python3.10/dist-packages (from requests>=2.19.0->pooch->cdlib) (3.3.2)\n",
            "Requirement already satisfied: idna<4,>=2.5 in /usr/local/lib/python3.10/dist-packages (from requests>=2.19.0->pooch->cdlib) (3.7)\n",
            "Requirement already satisfied: urllib3<3,>=1.21.1 in /usr/local/lib/python3.10/dist-packages (from requests>=2.19.0->pooch->cdlib) (2.0.7)\n",
            "Requirement already satisfied: certifi>=2017.4.17 in /usr/local/lib/python3.10/dist-packages (from requests>=2.19.0->pooch->cdlib) (2024.7.4)\n",
            "Installing collected packages: texttable, thresholdclustering, rapidfuzz, pulp, igraph, eva-lcd, dynetx, demon, python-igraph, Levenshtein, python-Levenshtein, bimlpa, angelcommunity, cdlib\n",
            "Successfully installed Levenshtein-0.25.1 angelcommunity-2.0.0 bimlpa-0.1.2 cdlib-0.4.0 demon-2.0.6 dynetx-0.3.2 eva-lcd-0.1.1 igraph-0.11.6 pulp-2.9.0 python-Levenshtein-0.25.1 python-igraph-0.11.6 rapidfuzz-3.9.4 texttable-1.7.0 thresholdclustering-1.1\n",
            "Requirement already satisfied: networkx in /usr/local/lib/python3.10/dist-packages (3.3)\n",
            "Mounted at /content/drive\n"
          ]
        }
      ],
      "source": [
        "!pip install cdlib\n",
        "!pip install networkx\n",
        "\n",
        "import cdlib\n",
        "import networkx as nx\n",
        "from google.colab import drive\n",
        "import pandas as pd\n",
        "import matplotlib.pyplot as plt\n",
        "from matplotlib import cm\n",
        "\n",
        "#uploading the data\n",
        "drive.mount('/content/drive')\n",
        "file_path = '/content/drive/My Drive/edges.csv'\n",
        "df = pd.read_csv(file_path)\n",
        "\n",
        "# building the network\n",
        "g = nx.from_pandas_edgelist(df, 'source', 'target', create_using=nx.DiGraph, edge_attr='count')\n",
        "\n",
        "# adding labels to each node\n",
        "df['source_class'] = df['source_class'].str[0] # takes the first letter\n",
        "df['target_class'] = df['target_class'].str[0]\n",
        "df_target = pd.concat([df['target'], df['target_class']], axis=1).drop_duplicates()\n",
        "df_source = pd.concat([df['source'], df['source_class']], axis=1).drop_duplicates()\n",
        "df_target = df_target.rename(columns={'target': 'user', 'target_class': 'label'})\n",
        "df_source = df_source.rename(columns={'source': 'user', 'source_class': 'label'})\n",
        "df_full = pd.concat([df_target, df_source], ignore_index=True).drop_duplicates() # dataframe user-to-label\n",
        "user_to_label = df_full.set_index('user')['label'].to_dict()\n",
        "nx.set_node_attributes(g, user_to_label, 'label')"
      ]
    },
    {
      "cell_type": "code",
      "source": [
        "# Louvain algorithm\n",
        "from cdlib import algorithms, viz, evaluation\n",
        "g_undirected = g.to_undirected()\n",
        "louvain_coms = algorithms.louvain(g_undirected) # Louvain works only on undirected graphs\n",
        "\n",
        "proportions_e = [] # I create a list of \"fractions of extraversion\" for each community\n",
        "for community in louvain_coms.communities:\n",
        "  count_e = sum(1 for node in community if g_undirected.nodes[node].get('label') == 'e')\n",
        "  proportions_e.append(count_e / len(community))\n",
        "print(proportions_e)\n",
        "\n",
        "cmap = cm.get_cmap('bwr')\n",
        "community_colors = [cmap(proportion) for proportion in proportions_e]\n",
        "\n",
        "#viz.plot_community_graph(g_undirected, louvain_coms, figsize=(10.6, 10.6))\n",
        "density_louvain = evaluation.internal_edge_density(g_undirected, louvain_coms)\n",
        "print(\"Density louvain:\", density_louvain)\n",
        "print(\"Node coverage louvain\", louvain_coms.node_coverage)\n",
        "print(\"Overlap louvain\", louvain_coms.overlap)\n",
        "print(\"Average internal degree louvain\", louvain_coms.average_internal_degree())"
      ],
      "metadata": {
        "colab": {
          "base_uri": "https://localhost:8080/"
        },
        "id": "757uM8Lgikct",
        "outputId": "b39f3237-82ad-4e92-bc9c-ea2c677e240d"
      },
      "execution_count": 4,
      "outputs": [
        {
          "output_type": "stream",
          "name": "stdout",
          "text": [
            "[0.2938078108941418, 0.2930632468668027, 0.2902185071124798, 0.28697613230595753, 0.3333333333333333, 0.0, 0.0, 0.0, 0.5, 1.0, 0.0, 1.0, 0.0, 0.0]\n",
            "Density louvain: FitnessResult(min=0.002513878840210811, max=1.0, score=0.6436428307011148, std=0.4253988591590185)\n",
            "Node coverage louvain 1.0\n",
            "Overlap louvain False\n",
            "Average internal degree louvain FitnessResult(min=1.0, max=22.320281566212053, score=6.038184849819755, std=7.968931657870513)\n"
          ]
        }
      ]
    },
    {
      "cell_type": "code",
      "source": [
        "# infomap, works on directed graphs\n",
        "from cdlib import algorithms, viz, evaluation\n",
        "infomap_coms = algorithms.infomap(g)\n",
        "\n",
        "#viz.plot_community_graph(g, infomap_coms, figsize=(10.6, 10.6))\n",
        "density_infomap = evaluation.internal_edge_density(g, infomap_coms)\n",
        "print(\"Density infomap:\", density_infomap)\n",
        "print(\"Node coverage infomap\", infomap_coms.node_coverage)\n",
        "print(\"Overlap infomap\", infomap_coms.overlap)\n",
        "print(\"Average internal degree infomap\", infomap_coms.average_internal_degree())"
      ],
      "metadata": {
        "colab": {
          "base_uri": "https://localhost:8080/"
        },
        "id": "4H1c76azivXT",
        "outputId": "2bd9f351-7f6a-402b-fe05-6dbc065567b9"
      },
      "execution_count": 3,
      "outputs": [
        {
          "output_type": "stream",
          "name": "stdout",
          "text": [
            "Note: to be able to use all crisp methods, you need to install some additional packages:  {'wurlitzer', 'graph_tool', 'bayanpy', 'infomap', 'leidenalg'}\n",
            "Note: to be able to use all crisp methods, you need to install some additional packages:  {'pyclustering', 'ASLPAw'}\n",
            "Note: to be able to use all crisp methods, you need to install some additional packages:  {'infomap', 'leidenalg', 'wurlitzer'}\n",
            "Density infomap: FitnessResult(min=0.0031609397629123953, max=2.0, score=0.6546833678701761, std=0.5925075082029501)\n",
            "Node coverage infomap 1.0\n",
            "Overlap infomap False\n",
            "Average internal degree infomap FitnessResult(min=1.0, max=33.98958527059699, score=2.633385058453372, std=1.4799408351134484)\n"
          ]
        }
      ]
    },
    {
      "cell_type": "code",
      "source": [
        "# Demon algorithm\n",
        "demon_coms = algorithms.demon(g, epsilon=0.5) # epsilon is the mixing parametre [0, 1],\n",
        "# the higher the value, the higher the mixing\n",
        "# i.e. high epsilon => large number of small communities, low epsilon => small number of big communities\n",
        "#viz.plot_community_graph(g, demon_coms, figsize=(10.6, 10.6))\n",
        "density_demon = evaluation.internal_edge_density(g, demon_coms)\n",
        "print(\"Density demon:\", density_demon)\n",
        "print(\"Node coverage demon\", demon_coms.node_coverage)\n",
        "print(\"Overlap demon\", demon_coms.overlap)\n",
        "print(\"Average internal degree demon\", demon_coms.average_internal_degree())"
      ],
      "metadata": {
        "colab": {
          "base_uri": "https://localhost:8080/"
        },
        "id": "4HdxhB8wi2JL",
        "outputId": "5f594d15-5e50-4146-e47c-31b968acc98b"
      },
      "execution_count": null,
      "outputs": [
        {
          "output_type": "stream",
          "name": "stdout",
          "text": [
            "Density demon: FitnessResult(min=0.007411325058053667, max=1.1666666666666667, score=0.1550531973481426, std=0.12625227718722465)\n",
            "Node coverage demon 0.6309448319594166\n",
            "Overlap demon True\n",
            "Average internal degree demon FitnessResult(min=2.5, max=81.25886600127416, score=25.179879312582447, std=18.36118687561709)\n"
          ]
        }
      ]
    },
    {
      "cell_type": "code",
      "source": [
        "# Label propagation\n",
        "lp_coms = algorithms.label_propagation(g_undirected)\n",
        "#viz.plot_community_graph(g, lp_coms, figsize=(10.6, 10.6))\n",
        "density_lp = evaluation.internal_edge_density(g_undirected, lp_coms)\n",
        "print(\"Density label propagation:\", density_lp)\n",
        "print(\"Node coverage lp\", lp_coms.node_coverage)\n",
        "print(\"Overlap lp\", lp_coms.overlap)\n",
        "print(\"Average internal degree lp\", lp_coms.average_internal_degree())"
      ],
      "metadata": {
        "colab": {
          "base_uri": "https://localhost:8080/"
        },
        "id": "5wv3M1rqi8JU",
        "outputId": "a589d8de-9624-4d64-e146-c629ac7dd6cb"
      },
      "execution_count": null,
      "outputs": [
        {
          "output_type": "stream",
          "name": "stdout",
          "text": [
            "Density label propagation: FitnessResult(min=0.0010262176814368337, max=1.0, score=0.9365568040165764, std=0.22087853885084333)\n",
            "Node coverage lp 1.0\n",
            "Overlap lp False\n",
            "Average internal degree lp FitnessResult(min=1.0, max=27.468768679019725, score=2.2762905720168125, std=5.633655484107765)\n"
          ]
        }
      ]
    },
    {
      "cell_type": "code",
      "source": [
        "# purity\n",
        "purity_louvain = []\n",
        "for community in louvain_coms.communities:\n",
        "  purity_ext = sum(1 if g_undirected.nodes[node].get('label') == 'e' else 0 for node in community) / len(community)\n",
        "  purity_louvain.append(max(purity_ext, 1 - purity_ext))\n",
        "  avg_purity_louvain = sum(purity_louvain) / len(purity_louvain)\n",
        "print(avg_purity_louvain)\n",
        "\n",
        "purity_lp = []\n",
        "for community in lp_coms.communities:\n",
        "  purity_ext = sum(1 if g_undirected.nodes[node].get('label') == 'e' else 0 for node in community) / len(community)\n",
        "  purity_lp.append(max(purity_ext, 1 - purity_ext))\n",
        "  avg_purity_lp = sum(purity_lp) / len(purity_lp)\n",
        "print(avg_purity_lp)\n",
        "\n",
        "purity_demon = []\n",
        "for community in demon_coms.communities:\n",
        "  purity_ext = sum(1 if g.nodes[node].get('label') == 'e' else 0 for node in community) / len(community)\n",
        "  purity_demon.append(max(purity_ext, 1 - purity_ext))\n",
        "  avg_purity_demon = sum(purity_demon) / len(purity_demon)\n",
        "print(avg_purity_demon)\n",
        "\n",
        "purity_infomap = []\n",
        "for community in infomap_coms.communities:\n",
        "  purity_ext = sum(1 if g.nodes[node].get('label') == 'e' else 0 for node in community) / len(community)\n",
        "  purity_infomap.append(max(purity_ext, 1 - purity_ext))\n",
        "  avg_purity_infomap = sum(purity_infomap) / len(purity_infomap)\n",
        "print(avg_purity_infomap)"
      ],
      "metadata": {
        "colab": {
          "base_uri": "https://localhost:8080/"
        },
        "id": "Uos-eiutiaHe",
        "outputId": "224732a7-cf6a-456e-f62e-435a7c631508"
      },
      "execution_count": null,
      "outputs": [
        {
          "output_type": "stream",
          "name": "stdout",
          "text": [
            "0.9073854986154829\n",
            "0.8988190115655745\n",
            "0.683041878113667\n",
            "0.7702414091521422\n"
          ]
        }
      ]
    },
    {
      "cell_type": "code",
      "source": [
        "# scatter plot\n",
        "print(len(louvain_coms.communities))\n",
        "print(len(lp_coms.communities))\n",
        "print(len(demon_coms.communities))\n",
        "print(len(infomap_coms.communities))\n",
        "\n",
        "viz.plot_com_properties_relation([louvain_coms, lp_coms, demon_coms, infomap_coms], evaluation.size, evaluation.internal_edge_density, markers='.')\n",
        "plt.xscale('log')\n",
        "plt.xlabel('Size')\n",
        "plt.ylabel('Internal edge density')\n",
        "plt.title('Internal edge density of communities')\n",
        "plt.show()"
      ],
      "metadata": {
        "colab": {
          "base_uri": "https://localhost:8080/",
          "height": 602
        },
        "id": "JtQFuulDgI0U",
        "outputId": "4b01b07d-e5d9-4820-8c14-7394cb45e55d"
      },
      "execution_count": null,
      "outputs": [
        {
          "output_type": "stream",
          "name": "stdout",
          "text": [
            "32\n",
            "21\n",
            "340\n",
            "961\n"
          ]
        },
        {
          "output_type": "display_data",
          "data": {
            "text/plain": [
              "<Figure size 500x500 with 1 Axes>"
            ],
            "image/png": "[encoded data removed]"
          },
          "metadata": {}
        }
      ]
    },
    {
      "cell_type": "code",
      "source": [
        "# Violin plot\n",
        "viz.plot_com_stat([louvain_coms, lp_coms, demon_coms, infomap_coms], evaluation.internal_edge_density)\n",
        "plt.xlabel('Algorithm')\n",
        "plt.ylabel('Internal edge density')\n",
        "plt.title('Violin plot')\n",
        "plt.xticks(ticks=[0,1,2,3], labels=['LV', 'LP', 'A/D', 'IM'])\n",
        "plt.show()"
      ],
      "metadata": {
        "colab": {
          "base_uri": "https://localhost:8080/",
          "height": 258
        },
        "id": "nHs1qhkY-ZHL",
        "outputId": "f9ea6e00-8689-478c-cdf4-d462350ef75a"
      },
      "execution_count": null,
      "outputs": [
        {
          "output_type": "display_data",
          "data": {
            "text/plain": [
              "<Figure size 640x480 with 1 Axes>"
            ],
            "image/png": "[encoded data removed]"
          },
          "metadata": {}
        }
      ]
    },
    {
      "cell_type": "code",
      "source": [
        "# Calculating density and degree of communities with majority E and with majority I\n",
        "import numpy as np\n",
        "ex_comm = []\n",
        "in_comm = []\n",
        "size_ex = []\n",
        "size_in = []\n",
        "for community in infomap_coms.communities:\n",
        "  purity_ext = sum(1 if g.nodes[node].get('label') == 'e' else 0 for node in community) / len(community)\n",
        "  if purity_ext >= 0.6:\n",
        "    ex_comm.append(community)\n",
        "    size_ex.append(len(community))\n",
        "  if purity_ext <= 0.4:\n",
        "    in_comm.append(community)\n",
        "    size_in.append(len(community))\n",
        "\n",
        "print('Avg. size ex.', sum(size_ex) / len(ex_comm))\n",
        "print('Avg. size in.', sum(size_in) / len(in_comm))\n",
        "\n",
        "\n",
        "purity_ext = []\n",
        "for community in ex_comm:\n",
        "  purity_ext.append(sum(1 if g.nodes[node].get('label') == 'e' else 0 for node in community) / len(community))\n",
        "purity_in = []\n",
        "for community in in_comm:\n",
        "  purity_in.append(sum(1 if g.nodes[node].get('label') == 'e' else 0 for node in community) / len(community))\n",
        "print('Avg. purity ext', np.array(purity_ext).sum()/ len(ex_comm))\n",
        "print('Avg. purity in',1-( np.array(purity_in).sum()/ len(in_comm)))\n",
        "\n",
        "\n",
        "print('# maj. ex. comm =', len(ex_comm))\n",
        "print('# maj. in. comm =', len(in_comm))\n",
        "\n",
        "# Create NodeClustering objects for ex_comm and in_comm\n",
        "from cdlib import NodeClustering\n",
        "ex_comm_nc = NodeClustering(ex_comm, g, \"ExComm\")\n",
        "in_comm_nc = NodeClustering(in_comm, g, \"InComm\")\n",
        "\n",
        "ex_density = evaluation.internal_edge_density(g, ex_comm_nc)\n",
        "in_density = evaluation.internal_edge_density(g, in_comm_nc)\n",
        "print('density ex.', ex_density)\n",
        "print('density in.', in_density)\n",
        "\n",
        "ex_degree = evaluation.average_internal_degree(g, ex_comm_nc)\n",
        "in_degree = evaluation.average_internal_degree(g, in_comm_nc)\n",
        "print('deg. ex.', ex_degree)\n",
        "print('deg. in', in_degree)"
      ],
      "metadata": {
        "colab": {
          "base_uri": "https://localhost:8080/"
        },
        "id": "hTJUh_RVZ8j0",
        "outputId": "4283af0e-fe66-4252-f389-48357f497266"
      },
      "execution_count": 12,
      "outputs": [
        {
          "output_type": "stream",
          "name": "stdout",
          "text": [
            "Avg. size ex. 5.084507042253521\n",
            "Avg. size in. 34.207934336525305\n",
            "Avg. purity ext 0.810239975204764\n",
            "Avg. purity in 0.8188721006268949\n",
            "# maj. ex. comm = 71\n",
            "# maj. in. comm = 731\n",
            "density ex. FitnessResult(min=0.18095238095238095, max=2.0, score=1.0096259972192037, std=0.6377349939807428)\n",
            "density in. FitnessResult(min=0.0031609397629123953, max=2.0, score=0.5838651086188628, std=0.531478208282661)\n",
            "deg. ex. FitnessResult(min=1.0, max=3.625, score=2.3065133223583927, std=0.5891184520167048)\n",
            "deg. in FitnessResult(min=1.0, max=33.98958527059699, score=2.69017352406675, std=1.6517166428806813)\n"
          ]
        }
      ]
    }
  ],
  "metadata": {
    "colab": {
      "provenance": []
    },
    "kernelspec": {
      "display_name": "Python 3",
      "name": "python3"
    },
    "language_info": {
      "name": "python"
    }
  },
  "nbformat": 4,
  "nbformat_minor": 0
}